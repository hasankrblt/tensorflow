{
 "cells": [
  {
   "cell_type": "code",
   "execution_count": 1,
   "metadata": {},
   "outputs": [],
   "source": [
    "import urllib.request\n",
    "import re\n",
    "import io\n",
    "import json"
   ]
  },
  {
   "cell_type": "code",
   "execution_count": 2,
   "metadata": {},
   "outputs": [],
   "source": [
    "menu_elemanlari=[\"1722\",\"1711\",\"1715\",\"1716\"]"
   ]
  },
  {
   "cell_type": "code",
   "execution_count": null,
   "metadata": {},
   "outputs": [],
   "source": []
  },
  {
   "cell_type": "code",
   "execution_count": 26,
   "metadata": {},
   "outputs": [],
   "source": [
    "kategoriler=[]\n",
    "for eleman in menu_elemanlari:\n",
    "    url=\"https://www.hepsiburada.com/navigation/\"+eleman\n",
    "    request=urllib.request.Request(url)\n",
    "    try:\n",
    "        response=urllib.request.urlopen(request)\n",
    "        htmlBytes=response.read()\n",
    "        htmlStr=htmlBytes.decode(\"utf-8\")\n",
    "        json_cevap=json.loads(htmlStr)\n",
    "        \n",
    "        kategori_1=[]\n",
    "        kategori_2=[]\n",
    "        kategori_3=[]\n",
    "        kategori_4=[]\n",
    "        \n",
    "        for item in json_cevap[\"items\"]:\n",
    "            for child in item[\"children\"]:\n",
    "                #print(child[\"title\"])\n",
    "                \n",
    "                if(child[\"url\"]):\n",
    "                    kategori_1.append(child[\"url\"])\n",
    "                for child2 in child[\"children\"]:\n",
    "                    if(child2[\"url\"]):\n",
    "                        kategori_2.append(child2[\"url\"])\n",
    "                    if(len(child2[\"children\"])>0):\n",
    "                        for child3 in child2[\"children\"]:\n",
    "                            if(child3[\"url\"]):\n",
    "                                kategori_3.append(child3[\"url\"])\n",
    "                                if(len(child3[\"children\"])>0):\n",
    "                                    for child4 in child3[\"children\"]:\n",
    "                                        if(child4[\"url\"]):\n",
    "                                            kategori_4.append(child4[\"url\"])\n",
    "        kategoriler.append(kategori_1)\n",
    "        kategoriler.append(kategori_2)\n",
    "        kategoriler.append(kategori_3)\n",
    "        kategoriler.append(kategori_4)\n",
    "    except:\n",
    "        print(\"Hata oluştu\")\n",
    "    #print(url)"
   ]
  },
  {
   "cell_type": "code",
   "execution_count": null,
   "metadata": {},
   "outputs": [],
   "source": []
  },
  {
   "cell_type": "code",
   "execution_count": 27,
   "metadata": {},
   "outputs": [],
   "source": [
    "kategoriler_liste = []\n",
    "for kategori in kategoriler:\n",
    "    for kate in kategori:\n",
    "        kategoriler_liste.append(kate.split('?')[0])"
   ]
  },
  {
   "cell_type": "code",
   "execution_count": 30,
   "metadata": {},
   "outputs": [],
   "source": [
    "with open(\"kategoriler_liste.txt\",\"w\") as txt_file:\n",
    "    for line in kategoriler_liste:\n",
    "        txt_file.write(line + \"\\n\")"
   ]
  },
  {
   "cell_type": "code",
   "execution_count": 21,
   "metadata": {},
   "outputs": [
    {
     "ename": "AttributeError",
     "evalue": "'NoneType' object has no attribute 'split'",
     "output_type": "error",
     "traceback": [
      "\u001b[1;31m---------------------------------------------------------------------------\u001b[0m",
      "\u001b[1;31mAttributeError\u001b[0m                            Traceback (most recent call last)",
      "\u001b[1;32m<ipython-input-21-11b6996f1db7>\u001b[0m in \u001b[0;36m<module>\u001b[1;34m\u001b[0m\n\u001b[0;32m      2\u001b[0m \u001b[1;32mfor\u001b[0m \u001b[0mkategori\u001b[0m \u001b[1;32min\u001b[0m \u001b[0mkategoriler\u001b[0m\u001b[1;33m:\u001b[0m\u001b[1;33m\u001b[0m\u001b[1;33m\u001b[0m\u001b[0m\n\u001b[0;32m      3\u001b[0m     \u001b[1;32mfor\u001b[0m \u001b[0mkate\u001b[0m \u001b[1;32min\u001b[0m \u001b[0mkategori\u001b[0m\u001b[1;33m:\u001b[0m\u001b[1;33m\u001b[0m\u001b[1;33m\u001b[0m\u001b[0m\n\u001b[1;32m----> 4\u001b[1;33m         \u001b[0mkategoriler_liste\u001b[0m\u001b[1;33m.\u001b[0m\u001b[0mappend\u001b[0m\u001b[1;33m(\u001b[0m\u001b[0mkate\u001b[0m\u001b[1;33m.\u001b[0m\u001b[0msplit\u001b[0m\u001b[1;33m(\u001b[0m\u001b[1;34m'?'\u001b[0m\u001b[1;33m)\u001b[0m\u001b[1;33m[\u001b[0m\u001b[1;36m0\u001b[0m\u001b[1;33m]\u001b[0m\u001b[1;33m)\u001b[0m\u001b[1;33m\u001b[0m\u001b[1;33m\u001b[0m\u001b[0m\n\u001b[0m",
      "\u001b[1;31mAttributeError\u001b[0m: 'NoneType' object has no attribute 'split'"
     ]
    }
   ],
   "source": []
  },
  {
   "cell_type": "code",
   "execution_count": 29,
   "metadata": {},
   "outputs": [
    {
     "data": {
      "text/plain": [
       "888"
      ]
     },
     "execution_count": 29,
     "metadata": {},
     "output_type": "execute_result"
    }
   ],
   "source": [
    "len(kategoriler_liste)"
   ]
  },
  {
   "cell_type": "code",
   "execution_count": null,
   "metadata": {},
   "outputs": [],
   "source": []
  },
  {
   "cell_type": "code",
   "execution_count": null,
   "metadata": {},
   "outputs": [],
   "source": []
  }
 ],
 "metadata": {
  "kernelspec": {
   "display_name": "Python 3",
   "language": "python",
   "name": "python3"
  },
  "language_info": {
   "codemirror_mode": {
    "name": "ipython",
    "version": 3
   },
   "file_extension": ".py",
   "mimetype": "text/x-python",
   "name": "python",
   "nbconvert_exporter": "python",
   "pygments_lexer": "ipython3",
   "version": "3.8.3"
  }
 },
 "nbformat": 4,
 "nbformat_minor": 4
}
