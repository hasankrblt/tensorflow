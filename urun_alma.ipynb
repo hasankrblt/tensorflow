{
 "cells": [
  {
   "cell_type": "code",
   "execution_count": 55,
   "metadata": {},
   "outputs": [],
   "source": [
    "import requests\n",
    "import re\n",
    "import io"
   ]
  },
  {
   "cell_type": "code",
   "execution_count": 56,
   "metadata": {},
   "outputs": [],
   "source": [
    "url = \"https://www.hepsiburada.com/kitaplar-c-2147483645\"\n",
    "htmlStr = requests.get(url).text"
   ]
  },
  {
   "cell_type": "code",
   "execution_count": 57,
   "metadata": {},
   "outputs": [],
   "source": [
    "aranan = '<a href=\"(.*?)-c-(.*?)sayfa=(.*?)\" class=\"page-(.*?)\">(.*?)</a>'\n",
    "sayfalar = re.findall(aranan, htmlStr)"
   ]
  },
  {
   "cell_type": "code",
   "execution_count": 67,
   "metadata": {},
   "outputs": [],
   "source": [
    "urunler= set()"
   ]
  },
  {
   "cell_type": "code",
   "execution_count": 73,
   "metadata": {},
   "outputs": [
    {
     "name": "stdout",
     "output_type": "stream",
     "text": [
      "sayfa sayisi: 50\n",
      "[('heartWrapper\" class=\"heartWrapper', 'HBV00000XXXWU'), ('heartWrapper\" class=\"heartWrapper', 'HBV00000XGSNB'), ('heartWrapper\" class=\"heartWrapper', 'HBV00000WFOBX'), ('heartWrapper\" class=\"heartWrapper', 'HBV00000ZJABI'), ('heartWrapper\" class=\"heartWrapper', 'HBV00000YDSCJ'), ('heartWrapper\" class=\"heartWrapper', 'HBV00000Y6ZI2'), ('heartWrapper\" class=\"heartWrapper', 'HBV00000YQC9P'), ('heartWrapper\" class=\"heartWrapper', 'HBV00000X5LAI'), ('heartWrapper\" class=\"heartWrapper', 'HBV00000YBPYY'), ('heartWrapper\" class=\"heartWrapper', 'HBV00000ZL355'), ('heartWrapper\" class=\"heartWrapper', 'HBV00000Y1ML3'), ('heartWrapper\" class=\"heartWrapper', 'HBV00000XGSER'), ('heartWrapper\" class=\"heartWrapper', 'HBV00000XOIW6'), ('heartWrapper\" class=\"heartWrapper', 'HBV00000WFDWR'), ('heartWrapper\" class=\"heartWrapper', 'HBV00000XWFT3'), ('heartWrapper\" class=\"heartWrapper', 'HBV00000Y9Y5E'), ('heartWrapper\" class=\"heartWrapper', 'HBV00000Y09J2'), ('heartWrapper\" class=\"heartWrapper', 'HBV00000X1XXK'), ('heartWrapper\" class=\"heartWrapper', 'HBV00000WYWTE'), ('heartWrapper\" class=\"heartWrapper', 'HBV00000XN3G0'), ('heartWrapper\" class=\"heartWrapper', 'HBV00000Y26JO'), ('heartWrapper\" class=\"heartWrapper', 'HBV00000X24PM'), ('heartWrapper\" class=\"heartWrapper', 'HBV00000XGSF5'), ('heartWrapper\" class=\"heartWrapper', 'HBV00000XZVJF')]\n",
      "1\n",
      "[('heartWrapper\" class=\"heartWrapper', 'HBV00000WQOOO'), ('heartWrapper\" class=\"heartWrapper', 'HBV00000Y4PBP'), ('heartWrapper\" class=\"heartWrapper', 'HBV00000YEQLP'), ('heartWrapper\" class=\"heartWrapper', 'HBV00000XKXJ0'), ('heartWrapper\" class=\"heartWrapper', 'HBV00000V9BQF'), ('heartWrapper\" class=\"heartWrapper', 'HBV00000Y5AZQ'), ('heartWrapper\" class=\"heartWrapper', 'HBV00000X2U1K'), ('heartWrapper\" class=\"heartWrapper', 'HBV00000W3ULH'), ('heartWrapper\" class=\"heartWrapper', 'HBV00000VJR8V'), ('heartWrapper\" class=\"heartWrapper', 'HBV00000X2GTR'), ('heartWrapper\" class=\"heartWrapper', 'HBV00000X7QKC'), ('heartWrapper\" class=\"heartWrapper', 'HBV00000Y4M0S'), ('heartWrapper\" class=\"heartWrapper', 'HBV00000WPQZ0'), ('heartWrapper\" class=\"heartWrapper', 'HBV00000X97LV'), ('heartWrapper\" class=\"heartWrapper', 'HBV00000W6VM7'), ('heartWrapper\" class=\"heartWrapper', 'HBV00000VQ9Y7'), ('heartWrapper\" class=\"heartWrapper', 'HBV00000TXOVW'), ('heartWrapper\" class=\"heartWrapper', 'HBV00000V6WA8'), ('heartWrapper\" class=\"heartWrapper', 'HBV00000UW09L'), ('heartWrapper\" class=\"heartWrapper', 'HBV00000WNPI8'), ('heartWrapper\" class=\"heartWrapper', 'HBV00000VJI2W'), ('heartWrapper\" class=\"heartWrapper', 'HBV00000VOVF4'), ('heartWrapper\" class=\"heartWrapper', 'HBV00000VIVYN'), ('heartWrapper\" class=\"heartWrapper', 'HBV00000V9XW5')]\n",
      "1\n",
      "[('heartWrapper\" class=\"heartWrapper', 'HBV00000XG3B9'), ('heartWrapper\" class=\"heartWrapper', 'HBV00000UWINY'), ('heartWrapper\" class=\"heartWrapper', 'HBV00000W5GNI'), ('heartWrapper\" class=\"heartWrapper', 'HBV00000UV9FG'), ('heartWrapper\" class=\"heartWrapper', 'HBV00000W3UL7'), ('heartWrapper\" class=\"heartWrapper', 'HBV00000QDLJ2'), ('heartWrapper\" class=\"heartWrapper', 'HBV00000W11XJ'), ('heartWrapper\" class=\"heartWrapper', 'HBV00000VI2YX'), ('heartWrapper\" class=\"heartWrapper', 'HBV00000UVFF9'), ('heartWrapper\" class=\"heartWrapper', 'HBV00000W2VLE'), ('heartWrapper\" class=\"heartWrapper', 'HBV000003136V'), ('heartWrapper\" class=\"heartWrapper', 'HBV00000W1G7E'), ('heartWrapper\" class=\"heartWrapper', 'HBV00000TGZ44'), ('heartWrapper\" class=\"heartWrapper', 'HBV00000WKZZM'), ('heartWrapper\" class=\"heartWrapper', 'HBV00000UH5OM'), ('heartWrapper\" class=\"heartWrapper', 'HBV00000TJ3RW'), ('heartWrapper\" class=\"heartWrapper', 'HBV00000V8CQ3'), ('heartWrapper\" class=\"heartWrapper', 'HBV00000UF2EC'), ('heartWrapper\" class=\"heartWrapper', 'HBV00000U225S'), ('heartWrapper\" class=\"heartWrapper', 'HBV00000VFYGQ'), ('heartWrapper\" class=\"heartWrapper', 'HBV00000W2VLI'), ('heartWrapper\" class=\"heartWrapper', 'HBV00000V7OVO'), ('heartWrapper\" class=\"heartWrapper', 'HBV00000TJMP9'), ('heartWrapper\" class=\"heartWrapper', 'HBV00000UMRWN')]\n",
      "1\n",
      "[('heartWrapper\" class=\"heartWrapper', 'HBV00000UDR76'), ('heartWrapper\" class=\"heartWrapper', 'HBV00000VOX63'), ('heartWrapper\" class=\"heartWrapper', 'HBV00000T0W3E'), ('heartWrapper\" class=\"heartWrapper', 'HBV00000SL0CK'), ('heartWrapper\" class=\"heartWrapper', 'HBV00000UF9JV'), ('heartWrapper\" class=\"heartWrapper', 'HBV00000UZOGU'), ('heartWrapper\" class=\"heartWrapper', 'HBV00000VFWSL'), ('heartWrapper\" class=\"heartWrapper', 'KCAN011'), ('heartWrapper\" class=\"heartWrapper', 'HBV00000C1AL3'), ('heartWrapper\" class=\"heartWrapper', 'HBV00000H6PGC'), ('heartWrapper\" class=\"heartWrapper', 'HBV00000N9GQ6'), ('heartWrapper\" class=\"heartWrapper', 'HBV00000VOX67'), ('heartWrapper\" class=\"heartWrapper', 'HBV000004A2NK'), ('heartWrapper\" class=\"heartWrapper', 'KTIMAS772'), ('heartWrapper\" class=\"heartWrapper', 'KPEARSON48698'), ('heartWrapper\" class=\"heartWrapper', 'KALTIN17808'), ('heartWrapper\" class=\"heartWrapper', 'HBV00000T0LZD'), ('heartWrapper\" class=\"heartWrapper', 'HBV00000SYKSX'), ('heartWrapper\" class=\"heartWrapper', 'HBV00000F5LZ9'), ('heartWrapper\" class=\"heartWrapper', 'HBV00000UM379'), ('heartWrapper\" class=\"heartWrapper', 'HBV00000INJ1M'), ('heartWrapper\" class=\"heartWrapper', 'HBV00000PVU4T'), ('heartWrapper\" class=\"heartWrapper', 'KREMZI183'), ('heartWrapper\" class=\"heartWrapper', 'KREMZI403')]\n",
      "1\n",
      "[('heartWrapper\" class=\"heartWrapper', 'HBV00000W7SYQ'), ('heartWrapper\" class=\"heartWrapper', 'HBV00000D6IO8'), ('heartWrapper\" class=\"heartWrapper', 'KCAN00118'), ('heartWrapper\" class=\"heartWrapper', 'HBV00000FMEO9'), ('heartWrapper\" class=\"heartWrapper', 'HBV00000FMEO5'), ('heartWrapper\" class=\"heartWrapper', 'HBV000009ZMGO'), ('heartWrapper\" class=\"heartWrapper', 'HBV00000D6IOA'), ('heartWrapper\" class=\"heartWrapper', 'HBV00000PDA4I'), ('heartWrapper\" class=\"heartWrapper', 'HBV00000D6IO6'), ('heartWrapper\" class=\"heartWrapper', 'HBV000007NWF8'), ('heartWrapper\" class=\"heartWrapper', 'KCAN009'), ('heartWrapper\" class=\"heartWrapper', 'KREMZIKITABEV14601'), ('heartWrapper\" class=\"heartWrapper', 'KADEDA93272'), ('heartWrapper\" class=\"heartWrapper', 'KPALME2281'), ('heartWrapper\" class=\"heartWrapper', 'KISBANK09902'), ('heartWrapper\" class=\"heartWrapper', 'KCAN015'), ('heartWrapper\" class=\"heartWrapper', 'HBV00000EYYK9'), ('heartWrapper\" class=\"heartWrapper', 'KREMZI16575'), ('heartWrapper\" class=\"heartWrapper', 'HBV00000HRTAR'), ('heartWrapper\" class=\"heartWrapper', 'KCAN18533'), ('heartWrapper\" class=\"heartWrapper', 'HBV00000N04DT'), ('heartWrapper\" class=\"heartWrapper', 'KISBANK487-CILTSIZ'), ('heartWrapper\" class=\"heartWrapper', 'HBV00000LO2HK'), ('heartWrapper\" class=\"heartWrapper', 'KISBANK09322')]\n",
      "1\n",
      "[('heartWrapper\" class=\"heartWrapper', 'KBBBEYAZ80585'), ('heartWrapper\" class=\"heartWrapper', 'HBV00000SSAAP'), ('heartWrapper\" class=\"heartWrapper', 'HBV00000QD8HP'), ('heartWrapper\" class=\"heartWrapper', 'KFNMKPUBLICATION04'), ('heartWrapper\" class=\"heartWrapper', 'HBV000005K86T'), ('heartWrapper\" class=\"heartWrapper', 'HBV00000FMENH'), ('heartWrapper\" class=\"heartWrapper', 'KISBANK07038'), ('heartWrapper\" class=\"heartWrapper', 'HBV000006NPEZ'), ('heartWrapper\" class=\"heartWrapper', 'KADEDA58063'), ('heartWrapper\" class=\"heartWrapper', 'KISBANK89256'), ('heartWrapper\" class=\"heartWrapper', 'HBV00000IB5H1'), ('heartWrapper\" class=\"heartWrapper', 'KTIMAS22038'), ('heartWrapper\" class=\"heartWrapper', 'KISBANK163'), ('heartWrapper\" class=\"heartWrapper', 'KYAP106'), ('heartWrapper\" class=\"heartWrapper', 'HBV00000FIWNJ'), ('heartWrapper\" class=\"heartWrapper', 'HBV00000TAAJW'), ('heartWrapper\" class=\"heartWrapper', 'HBV00000A72Z5'), ('heartWrapper\" class=\"heartWrapper', 'KFNNEMESIS3229'), ('heartWrapper\" class=\"heartWrapper', 'KYAP49'), ('heartWrapper\" class=\"heartWrapper', 'HBV00000FMENT'), ('heartWrapper\" class=\"heartWrapper', 'KISBAN81782'), ('heartWrapper\" class=\"heartWrapper', 'HBV00000XB7BU'), ('heartWrapper\" class=\"heartWrapper', 'HBV00000HUCNA'), ('heartWrapper\" class=\"heartWrapper', 'KADEDA58018')]\n",
      "1\n"
     ]
    },
    {
     "ename": "KeyboardInterrupt",
     "evalue": "",
     "output_type": "error",
     "traceback": [
      "\u001b[1;31m---------------------------------------------------------------------------\u001b[0m",
      "\u001b[1;31mKeyboardInterrupt\u001b[0m                         Traceback (most recent call last)",
      "\u001b[1;32m<ipython-input-73-fa3de26aa905>\u001b[0m in \u001b[0;36m<module>\u001b[1;34m\u001b[0m\n\u001b[0;32m     14\u001b[0m \u001b[1;33m\u001b[0m\u001b[0m\n\u001b[0;32m     15\u001b[0m         \u001b[0maranan2\u001b[0m \u001b[1;33m=\u001b[0m \u001b[1;34m'\"(.*?)\" data-sku=\"(.*?)\"'\u001b[0m\u001b[1;33m\u001b[0m\u001b[1;33m\u001b[0m\u001b[0m\n\u001b[1;32m---> 16\u001b[1;33m         \u001b[0msonuc2\u001b[0m \u001b[1;33m=\u001b[0m \u001b[0mre\u001b[0m\u001b[1;33m.\u001b[0m\u001b[0mfindall\u001b[0m\u001b[1;33m(\u001b[0m\u001b[0maranan2\u001b[0m\u001b[1;33m,\u001b[0m \u001b[0mhtmlStr2\u001b[0m\u001b[1;33m)\u001b[0m\u001b[1;33m\u001b[0m\u001b[1;33m\u001b[0m\u001b[0m\n\u001b[0m\u001b[0;32m     17\u001b[0m \u001b[1;33m\u001b[0m\u001b[0m\n\u001b[0;32m     18\u001b[0m         \u001b[0mprint\u001b[0m\u001b[1;33m(\u001b[0m\u001b[0msonuc2\u001b[0m\u001b[1;33m)\u001b[0m\u001b[1;33m\u001b[0m\u001b[1;33m\u001b[0m\u001b[0m\n",
      "\u001b[1;31mKeyboardInterrupt\u001b[0m: "
     ]
    }
   ],
   "source": [
    "if len(sayfalar)>0:\n",
    "    sayfa_sayisi=int(sayfalar[-1][2])\n",
    "    print('sayfa sayisi: ' + str(sayfa_sayisi))\n",
    "    sayfa = 1\n",
    "    for sayi in range(sayfa_sayisi):\n",
    "        url2=url + \"?sayfa=\" + str(sayi + 1)\n",
    "        #print(url2)\n",
    "        try:\n",
    "            htmlStr2 = requests.get(url2).text\n",
    "            #print(htmlStr2)\n",
    "            \n",
    "        except:\n",
    "            print(\"hata oluştu\")\n",
    "\n",
    "        aranan2 = '\"(.*?)\" data-sku=\"(.*?)\"'\n",
    "        sonuc2 = re.findall(aranan2, htmlStr2)\n",
    "\n",
    "        print(sonuc2)\n",
    "        \n",
    "        for word in sonuc2:\n",
    "            if word[0] not in urunler:\n",
    "                urunler.add(word[0])\n",
    "                #print(word[0])\n",
    "        \n",
    "        #print(url2 )\n",
    "        print(len(urunler))   "
   ]
  },
  {
   "cell_type": "code",
   "execution_count": 35,
   "metadata": {},
   "outputs": [
    {
     "data": {
      "text/plain": [
       "{'heartWrapper\" class=\"heartWrapper'}"
      ]
     },
     "execution_count": 35,
     "metadata": {},
     "output_type": "execute_result"
    }
   ],
   "source": [
    "urunler"
   ]
  },
  {
   "cell_type": "code",
   "execution_count": null,
   "metadata": {},
   "outputs": [],
   "source": []
  },
  {
   "cell_type": "code",
   "execution_count": null,
   "metadata": {},
   "outputs": [],
   "source": [
    " "
   ]
  },
  {
   "cell_type": "code",
   "execution_count": 13,
   "metadata": {},
   "outputs": [
    {
     "data": {
      "text/plain": [
       "889"
      ]
     },
     "execution_count": 13,
     "metadata": {},
     "output_type": "execute_result"
    }
   ],
   "source": [
    "f = open(\"kategoriler_liste.txt\", \"r\")\n",
    "satirlar = f.read().split('\\n')\n",
    "len(satirlar)"
   ]
  },
  {
   "cell_type": "code",
   "execution_count": 9,
   "metadata": {},
   "outputs": [],
   "source": []
  },
  {
   "cell_type": "code",
   "execution_count": null,
   "metadata": {},
   "outputs": [],
   "source": []
  }
 ],
 "metadata": {
  "kernelspec": {
   "display_name": "Python 3",
   "language": "python",
   "name": "python3"
  },
  "language_info": {
   "codemirror_mode": {
    "name": "ipython",
    "version": 3
   },
   "file_extension": ".py",
   "mimetype": "text/x-python",
   "name": "python",
   "nbconvert_exporter": "python",
   "pygments_lexer": "ipython3",
   "version": "3.8.3"
  }
 },
 "nbformat": 4,
 "nbformat_minor": 4
}
